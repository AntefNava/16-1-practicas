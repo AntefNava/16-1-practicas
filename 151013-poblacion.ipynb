{
 "metadata": {
  "name": "",
  "signature": "sha256:2c5f606430b0f5ab09aa151f7328e2dba194c74b01ba980c7c28303e99228634"
 },
 "nbformat": 3,
 "nbformat_minor": 0,
 "worksheets": [
  {
   "cells": [
    {
     "cell_type": "heading",
     "level": 1,
     "metadata": {},
     "source": [
      "Crecimiento poblacional en Mexico"
     ]
    },
    {
     "cell_type": "markdown",
     "metadata": {},
     "source": [
      "Datos tomados de:\n",
      "http://www.worldometers.info/world-population/mexico-population/"
     ]
    },
    {
     "cell_type": "code",
     "collapsed": false,
     "input": [
      "import numpy as np\n",
      "from sys import exit\n",
      "import matplotlib.pyplot as plt\n",
      "% matplotlib inline\n",
      "\n",
      "archi=\"poblacion.dat\"\n",
      "\n",
      "try:\n",
      "    archivo=open(archi,\"r\")\n",
      "except:\n",
      "    exit(\"No se pudo leer el archivo {0} \\n\".format(archi))"
     ],
     "language": "python",
     "metadata": {},
     "outputs": [],
     "prompt_number": 7
    },
    {
     "cell_type": "code",
     "collapsed": false,
     "input": [
      "x=[]\n",
      "y=[]\n",
      "\n",
      "for linea in archivo:\n",
      "    linea = linea.strip()\n",
      "    datos = linea.split()\n",
      "    #print datos\n",
      "    x += [float(datos[0])]\n",
      "    y += [float(datos[1])]\n",
      "    \n",
      "archivo.close()"
     ],
     "language": "python",
     "metadata": {},
     "outputs": [],
     "prompt_number": 8
    },
    {
     "cell_type": "code",
     "collapsed": false,
     "input": [
      "def lag_inter(x,x_val,y_val):\n",
      "    k=len(x_val)\n",
      "    suma = 0.0\n",
      "    \n",
      "    for j in range(k):\n",
      "        p= 1.0\n",
      "        for m in range(k):\n",
      "            if m != j:\n",
      "                p *= float((x-x_val[m])/(x_val[j]-x_val[m]))\n",
      "        suma += p*y_val[j]\n",
      "    return suma\n",
      "    \n",
      "n=len(x)\n",
      "\n",
      "#caracteristicas para la grafica\n",
      "fig = plt.figure(figsize=(20,5))\n",
      "ax1 = fig.add_subplot(1,2,1)\n",
      "ax1.set_title(\"Crecimiento poblacional en Mexico\")\n",
      "ax1.grid()\n",
      "\n",
      "\n",
      "for i in range (n-1):\n",
      "    x_nuevo = np.linspace(x[i],x[i+1],10) #da pasos de tamao 10\n",
      "    y_nuevo = np.empty(len(x_nuevo)) #hace un arreglo vacio\n",
      "    for j in range(len(x_nuevo)): #llena el arreglo con la funcion anterior\n",
      "        y_nuevo[j] = lag_inter(x_nuevo[j],x[i:i+3],y[i:i+3]) #cambiar i+3 para cambiar el grado del polinomio\n",
      "    plt.plot(x_nuevo,y_nuevo,\"b-\")\n",
      "   \n",
      "plt.plot(x,y,\"ro\")\n",
      "plt.show()"
     ],
     "language": "python",
     "metadata": {},
     "outputs": [
      {
       "metadata": {},
       "output_type": "display_data",
       "png": "[encoded data removed]",
       "text": [
        "<matplotlib.figure.Figure at 0x7fe62c8c4ad0>"
       ]
      }
     ],
     "prompt_number": 19
    },
    {
     "cell_type": "code",
     "collapsed": false,
     "input": [],
     "language": "python",
     "metadata": {},
     "outputs": []
    }
   ],
   "metadata": {}
  }
 ]
}